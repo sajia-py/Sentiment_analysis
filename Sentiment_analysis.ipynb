{
 "cells": [
  {
   "cell_type": "code",
   "execution_count": null,
   "metadata": {},
   "outputs": [
    {
     "name": "stdout",
     "output_type": "stream",
     "text": [
      "Collecting nltk\n",
      "  Obtaining dependency information for nltk from https://files.pythonhosted.org/packages/4d/66/7d9e26593edda06e8cb531874633f7c2372279c3b0f46235539fe546df8b/nltk-3.9.1-py3-none-any.whl.metadata\n",
      "  Downloading nltk-3.9.1-py3-none-any.whl.metadata (2.9 kB)\n",
      "Collecting click (from nltk)\n",
      "  Obtaining dependency information for click from https://files.pythonhosted.org/packages/7e/d4/7ebdbd03970677812aac39c869717059dbb71a4cfc033ca6e5221787892c/click-8.1.8-py3-none-any.whl.metadata\n",
      "  Downloading click-8.1.8-py3-none-any.whl.metadata (2.3 kB)\n",
      "Requirement already satisfied: joblib in c:\\users\\admin\\miniconda3\\envs\\python_eda\\lib\\site-packages (from nltk) (1.3.2)\n",
      "Collecting regex>=2021.8.3 (from nltk)\n",
      "  Obtaining dependency information for regex>=2021.8.3 from https://files.pythonhosted.org/packages/38/ec/ad2d7de49a600cdb8dd78434a1aeffe28b9d6fc42eb36afab4a27ad23384/regex-2024.11.6-cp312-cp312-win_amd64.whl.metadata\n",
      "  Downloading regex-2024.11.6-cp312-cp312-win_amd64.whl.metadata (41 kB)\n",
      "     ---------------------------------------- 0.0/41.5 kB ? eta -:--:--\n",
      "     ----------------------------- ---------- 30.7/41.5 kB 1.3 MB/s eta 0:00:01\n",
      "     ----------------------------- ---------- 30.7/41.5 kB 1.3 MB/s eta 0:00:01\n",
      "     -------------------------------------  41.0/41.5 kB 279.3 kB/s eta 0:00:01\n",
      "     -------------------------------------- 41.5/41.5 kB 182.0 kB/s eta 0:00:00\n",
      "Collecting tqdm (from nltk)\n",
      "  Obtaining dependency information for tqdm from https://files.pythonhosted.org/packages/d0/30/dc54f88dd4a2b5dc8a0279bdd7270e735851848b762aeb1c1184ed1f6b14/tqdm-4.67.1-py3-none-any.whl.metadata\n",
      "  Downloading tqdm-4.67.1-py3-none-any.whl.metadata (57 kB)\n",
      "     ---------------------------------------- 0.0/57.7 kB ? eta -:--:--\n",
      "     ----------------------------------- ---- 51.2/57.7 kB 2.7 MB/s eta 0:00:01\n",
      "     -------------------------------------- 57.7/57.7 kB 608.1 kB/s eta 0:00:00\n",
      "Requirement already satisfied: colorama in c:\\users\\admin\\miniconda3\\envs\\python_eda\\lib\\site-packages (from click->nltk) (0.4.6)\n",
      "Downloading nltk-3.9.1-py3-none-any.whl (1.5 MB)\n",
      "   ---------------------------------------- 0.0/1.5 MB ? eta -:--:--\n",
      "   - -------------------------------------- 0.1/1.5 MB ? eta -:--:--\n",
      "   - -------------------------------------- 0.1/1.5 MB ? eta -:--:--\n",
      "   ---- ----------------------------------- 0.2/1.5 MB 1.1 MB/s eta 0:00:02\n",
      "   ---- ----------------------------------- 0.2/1.5 MB 1.1 MB/s eta 0:00:02\n",
      "   ------- -------------------------------- 0.3/1.5 MB 1.1 MB/s eta 0:00:02\n",
      "   ---------- ----------------------------- 0.4/1.5 MB 1.5 MB/s eta 0:00:01\n",
      "   ------------ --------------------------- 0.5/1.5 MB 1.4 MB/s eta 0:00:01\n",
      "   ------------------- -------------------- 0.7/1.5 MB 1.9 MB/s eta 0:00:01\n",
      "   -------------------- ------------------- 0.8/1.5 MB 1.7 MB/s eta 0:00:01\n",
      "   --------------------------- ------------ 1.0/1.5 MB 2.1 MB/s eta 0:00:01\n",
      "   --------------------------------- ------ 1.3/1.5 MB 2.4 MB/s eta 0:00:01\n",
      "   -------------------------------------- - 1.4/1.5 MB 2.5 MB/s eta 0:00:01\n",
      "   -------------------------------------- - 1.4/1.5 MB 2.5 MB/s eta 0:00:01\n",
      "   -------------------------------------- - 1.4/1.5 MB 2.5 MB/s eta 0:00:01\n",
      "   -------------------------------------- - 1.4/1.5 MB 2.5 MB/s eta 0:00:01\n",
      "   ---------------------------------------  1.5/1.5 MB 1.8 MB/s eta 0:00:01\n",
      "   ---------------------------------------  1.5/1.5 MB 1.8 MB/s eta 0:00:01\n",
      "   ---------------------------------------- 1.5/1.5 MB 1.7 MB/s eta 0:00:00\n",
      "Downloading regex-2024.11.6-cp312-cp312-win_amd64.whl (273 kB)\n",
      "   ---------------------------------------- 0.0/273.6 kB ? eta -:--:--\n",
      "   ------------------------------------- - 266.2/273.6 kB 17.1 MB/s eta 0:00:01\n",
      "   ---------------------------------------- 273.6/273.6 kB 3.4 MB/s eta 0:00:00\n",
      "Downloading click-8.1.8-py3-none-any.whl (98 kB)\n",
      "   ---------------------------------------- 0.0/98.2 kB ? eta -:--:--\n",
      "   ------------------------------------- -- 92.2/98.2 kB ? eta -:--:--\n",
      "   ------------------------------------- -- 92.2/98.2 kB ? eta -:--:--\n",
      "   ---------------------------------------- 98.2/98.2 kB 935.6 kB/s eta 0:00:00\n",
      "Downloading tqdm-4.67.1-py3-none-any.whl (78 kB)\n",
      "   ---------------------------------------- 0.0/78.5 kB ? eta -:--:--\n",
      "   ------------------------------------ --- 71.7/78.5 kB ? eta -:--:--\n",
      "   ---------------------------------------- 78.5/78.5 kB 726.6 kB/s eta 0:00:00\n",
      "Installing collected packages: tqdm, regex, click, nltk\n",
      "Successfully installed click-8.1.8 nltk-3.9.1 regex-2024.11.6 tqdm-4.67.1\n"
     ]
    }
   ],
   "source": [
    "%pip install nltk"
   ]
  },
  {
   "cell_type": "code",
   "execution_count": null,
   "metadata": {},
   "outputs": [],
   "source": [
    "import pandas as pd\n",
    "import nltk\n",
    "import seaborn as sns\n",
    "from nltk.sentiment import SentimentIntensityAnalyzer\n",
    "import matplotlib.pyplot as plt\n",
    "\n",
    "# Download the VADER lexicon\n",
    "nltk.download('vader_lexicon')"
   ]
  },
  {
   "cell_type": "code",
   "execution_count": 1,
   "metadata": {},
   "outputs": [
    {
     "ename": "NameError",
     "evalue": "name 'pd' is not defined",
     "output_type": "error",
     "traceback": [
      "\u001b[1;31m---------------------------------------------------------------------------\u001b[0m",
      "\u001b[1;31mNameError\u001b[0m                                 Traceback (most recent call last)",
      "Cell \u001b[1;32mIn[1], line 1\u001b[0m\n\u001b[1;32m----> 1\u001b[0m df \u001b[38;5;241m=\u001b[39m \u001b[43mpd\u001b[49m\u001b[38;5;241m.\u001b[39mread_csv(\u001b[38;5;124m\"\u001b[39m\u001b[38;5;124mamazon_product_reviews.csv\u001b[39m\u001b[38;5;124m\"\u001b[39m)  \u001b[38;5;66;03m# Adjust filename as needed\u001b[39;00m\n\u001b[0;32m      2\u001b[0m df\u001b[38;5;241m.\u001b[39mhead()\n",
      "\u001b[1;31mNameError\u001b[0m: name 'pd' is not defined"
     ]
    }
   ],
   "source": [
    "df = pd.read_csv(\"amazon_product_reviews.csv\")  # Adjust filename as needed\n",
    "df.head()\n"
   ]
  },
  {
   "cell_type": "code",
   "execution_count": 6,
   "metadata": {},
   "outputs": [
    {
     "name": "stderr",
     "output_type": "stream",
     "text": [
      "[nltk_data] Downloading package vader_lexicon to\n",
      "[nltk_data]     C:\\Users\\ADMIN\\AppData\\Roaming\\nltk_data...\n",
      "[nltk_data]   Package vader_lexicon is already up-to-date!\n",
      "C:\\Users\\ADMIN\\AppData\\Local\\Temp\\ipykernel_3708\\1169636008.py:14: SettingWithCopyWarning: \n",
      "A value is trying to be set on a copy of a slice from a DataFrame.\n",
      "Try using .loc[row_indexer,col_indexer] = value instead\n",
      "\n",
      "See the caveats in the documentation: https://pandas.pydata.org/pandas-docs/stable/user_guide/indexing.html#returning-a-view-versus-a-copy\n",
      "  df['sentiment_score'] = df['reviews.text'].apply(lambda text: sia.polarity_scores(text)['compound'])\n",
      "C:\\Users\\ADMIN\\AppData\\Local\\Temp\\ipykernel_3708\\1169636008.py:17: SettingWithCopyWarning: \n",
      "A value is trying to be set on a copy of a slice from a DataFrame.\n",
      "Try using .loc[row_indexer,col_indexer] = value instead\n",
      "\n",
      "See the caveats in the documentation: https://pandas.pydata.org/pandas-docs/stable/user_guide/indexing.html#returning-a-view-versus-a-copy\n",
      "  df['sentiment'] = df['sentiment_score'].apply(lambda score: 'positive' if score > 0.05 else ('negative' if score < -0.05 else 'neutral'))\n"
     ]
    },
    {
     "data": {
      "text/plain": [
       "sentiment\n",
       "positive    31029\n",
       "negative     2087\n",
       "neutral      1543\n",
       "Name: count, dtype: int64"
      ]
     },
     "execution_count": 6,
     "metadata": {},
     "output_type": "execute_result"
    }
   ],
   "source": [
    "from nltk.sentiment import SentimentIntensityAnalyzer\n",
    "import nltk\n",
    "\n",
    "# Download VADER lexicon\n",
    "nltk.download('vader_lexicon')\n",
    "\n",
    "# Initialize VADER sentiment analyzer\n",
    "sia = SentimentIntensityAnalyzer()\n",
    "\n",
    "# Drop rows with missing reviews\n",
    "df = df.dropna(subset=['reviews.text'])\n",
    "\n",
    "# Apply sentiment analysis\n",
    "df['sentiment_score'] = df['reviews.text'].apply(lambda text: sia.polarity_scores(text)['compound'])\n",
    "\n",
    "# Categorize sentiment based on the compound score\n",
    "df['sentiment'] = df['sentiment_score'].apply(lambda score: 'positive' if score > 0.05 else ('negative' if score < -0.05 else 'neutral'))\n",
    "\n",
    "# Display sentiment distribution\n",
    "df['sentiment'].value_counts()\n"
   ]
  }
 ],
 "metadata": {
  "kernelspec": {
   "display_name": "python_eda",
   "language": "python",
   "name": "python3"
  },
  "language_info": {
   "codemirror_mode": {
    "name": "ipython",
    "version": 3
   },
   "file_extension": ".py",
   "mimetype": "text/x-python",
   "name": "python",
   "nbconvert_exporter": "python",
   "pygments_lexer": "ipython3",
   "version": "3.12.0"
  }
 },
 "nbformat": 4,
 "nbformat_minor": 2
}
